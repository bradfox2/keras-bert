{
 "cells": [
  {
   "cell_type": "markdown",
   "metadata": {},
   "source": [
    "#Inital Mucking Around with BERT\n",
    "\n",
    "To add additional vocab, see https://github.com/google-research/bert/issues/9"
   ]
  },
  {
   "cell_type": "code",
   "execution_count": 5,
   "metadata": {
    "ExecuteTime": {
     "end_time": "2019-01-15T04:10:16.955288Z",
     "start_time": "2019-01-15T04:10:16.950288Z"
    }
   },
   "outputs": [
    {
     "name": "stdout",
     "output_type": "stream",
     "text": [
      "***** BERT pretrained directory: E:\\Jupyter\\keras_bert\\getting_it_running\\uncased_L-12_H-768_A-12 *****\n"
     ]
    }
   ],
   "source": [
    "#place unzipped BERT model files in same level dir\n",
    "#https://storage.googleapis.com/bert_models/2018_10_18/uncased_L-12_H-768_A-12.zip\n",
    "\n",
    "import os\n",
    "UPLOAD_TIME = '2018_10_18' #@param {type:\"string\"}\n",
    "BERT_MODEL = 'uncased_L-12_H-768_A-12' #@param {type:\"string\"}\n",
    "BERT_PRETRAINED_DIR = os.path.realpath(BERT_MODEL)\n",
    "print('***** BERT pretrained directory: {} *****'.format(BERT_PRETRAINED_DIR))"
   ]
  },
  {
   "cell_type": "code",
   "execution_count": null,
   "metadata": {
    "ExecuteTime": {
     "start_time": "2019-01-15T04:10:17.429Z"
    }
   },
   "outputs": [],
   "source": [
    "import os\n",
    "import json\n",
    "import keras \n",
    "from keras_bert.loader import load_trained_model_from_checkpoint\n",
    "from keras_bert.bert import *\n",
    "config_file = os.path.join(BERT_PRETRAINED_DIR, 'bert_config.json')\n",
    "checkpoint_file = os.path.join(BERT_PRETRAINED_DIR, 'bert_model.ckpt')\n",
    "model = load_trained_model_from_checkpoint(config_file, checkpoint_file, training=True)\n",
    "\n",
    "#model = keras.models.load_model('../Train model/weights.11-3.73.hdf5')\n",
    "\n",
    "model.summary(line_length=120)"
   ]
  },
  {
   "cell_type": "code",
   "execution_count": null,
   "metadata": {
    "ExecuteTime": {
     "start_time": "2019-01-15T04:10:19.341Z"
    }
   },
   "outputs": [],
   "source": [
    "model.compile('adam', 'sparse_categorical_crossentropy')"
   ]
  },
  {
   "cell_type": "code",
   "execution_count": null,
   "metadata": {
    "ExecuteTime": {
     "start_time": "2019-01-15T04:10:20.628Z"
    }
   },
   "outputs": [],
   "source": [
    "dict_path = os.path.join(BERT_PRETRAINED_DIR, 'vocab.txt')\n",
    "dict_path"
   ]
  },
  {
   "cell_type": "code",
   "execution_count": 104,
   "metadata": {
    "ExecuteTime": {
     "end_time": "2019-01-04T22:02:15.586119Z",
     "start_time": "2019-01-04T22:02:15.479520Z"
    }
   },
   "outputs": [
    {
     "name": "stdout",
     "output_type": "stream",
     "text": [
      "['[CLS]', 'on', '01/04/2019', 'at', '01:29', 'the', 'control', 'room', 'received', 'alarm', 'window', '5b02d', ',', 'pps', 'trouble', '/', 'gnd', ',and', 'rj', 'point', 'sbys36,', 'plant', 'protection', 'system', 'channel', 'd', 'ground.', 'the', 'alarm', 'locked', 'in', 'for', '45', 'minutes', 'then', '[MASK]', '.', 'the', 'alarm', 'response', 'was', 'followed', 'and', 'no', '[MASK]', 'were', 'identified', '[SEP]', 'the', 'ground', 'alarm', 'light', 'on', 'thefront', 'of', 'pps', 'cabinet', 'd', 'is', 'on', 'which', 'is', 'normal', ',', 'meaning', 'there', 'is', 'no', 'ground', 'indicated', '[SEP]', 'wrote', 'cr', 'torequest', 'support', 'from', 'i&c', '[SEP]']\n"
     ]
    }
   ],
   "source": [
    "import codecs\n",
    "\n",
    "bsz = 8\n",
    "\n",
    "MASK = ['[MASK]']\n",
    "CLS = ['[CLS]']\n",
    "SEP = ['[SEP]']\n",
    "UNK = ['[UNK]']\n",
    "\n",
    "tokens = CLS + 'VALVE'.lower().split() + 'GLOBE LESS EQ'.lower().split() + MASK + 'SEAL 0.75 IN 2173# \\\n",
    "PER ANSI B16.34-1981 FORGED SSBODY BOLTED BONNET, SOCKET WELD'.lower().split() + SEP + 'MUST COMPLY WITH ASME B&PV CODE, \\\n",
    "SECT III, CL 2, 1974 ED W75 ADD AND SPEC CMTR FOR BODY (SA182 TP 316L), INDICATOR TUBE (SA479 GR 316), \\\n",
    "BONNET TUBE (SA479 GR XM-19), MAIN DISC (SA564 GR 630), AND FIXED CORE (A276 GR 410 OR A479 GR 410), \\\n",
    "NOREM 02A HARD FACING'.lower().split() + SEP + 'MUST PROVIDE CERTIFICATION TO EQUIP QUALIFICATION AND SEISMIC REQUIREMENTS PER \\\n",
    "SPEC, PT/MT FOR HARD FACING/OVERLAY'.lower().split() + SEP\n",
    "\n",
    "#develop\n",
    "tokens = CLS + 'Attempting to'.lower().split() + MASK + 'inventions he could patent and market, \\\n",
    "Tesla conducted a range of experiments with mechanical oscillators generators \\\n",
    "electrical discharge tubes and early X-ray imaging'.lower().split() + SEP + \\\n",
    "'He also built a wireless controlled boat , one of the first ever exhibited'.lower().split() + SEP\n",
    "\n",
    "#cleared\n",
    "tokens = CLS + 'ON 01/04/2019 at 01:29 The Control Room received alarm window 5B02D , PPS TROUBLE / GND ,\\\n",
    "and RJ point SBYS36, Plant Protection System Channel D Ground. The alarm locked in for 45 minutes \\\n",
    "then'.lower().split() + MASK +\\\n",
    "'. The alarm response was followed and no abnormalities were identified'.lower().split() + SEP + 'The ground alarm light on the\\\n",
    "front of PPS Cabinet D is ON which is normal , meaning there is no ground indicated'.lower().split() + SEP + 'Wrote CR to\\\n",
    "request support from I&C'.lower().split() + SEP\n",
    "\n",
    "#cleared, None:There was no word there\n",
    "tokens = CLS + 'ON 01/04/2019 at 01:29 The Control Room received alarm window 5B02D , PPS TROUBLE / GND ,\\\n",
    "and RJ point SBYS36, Plant Protection System Channel D Ground. The alarm locked in for 45 minutes \\\n",
    "then'.lower().split() + MASK +\\\n",
    "'. The alarm response was followed and no'.lower().split() + MASK +  'abnormalities were identified'.lower().split() + SEP + 'The ground alarm light on the\\\n",
    "front of PPS Cabinet D is ON which is normal , meaning there is no ground indicated'.lower().split() + SEP + 'Wrote CR to\\\n",
    "request support from I&C'.lower().split() + SEP\n",
    "\n",
    "#cleared, abnormalities\n",
    "tokens = CLS + 'ON 01/04/2019 at 01:29 The Control Room received alarm window 5B02D , PPS TROUBLE / GND ,\\\n",
    "and RJ point SBYS36, Plant Protection System Channel D Ground. The alarm locked in for 45 minutes \\\n",
    "then'.lower().split() + MASK +\\\n",
    "'. The alarm response was followed and no'.lower().split() + MASK +  'were identified'.lower().split() + SEP + 'The ground alarm light on the\\\n",
    "front of PPS Cabinet D is ON which is normal , meaning there is no ground indicated'.lower().split() + SEP + 'Wrote CR to\\\n",
    "request support from I&C'.lower().split() + SEP\n",
    "\n",
    "print(tokens)\n",
    "\n",
    "token_dict = {}\n",
    "with codecs.open(dict_path, 'r', 'utf8') as reader:\n",
    "    for line in reader:\n",
    "        token = line.strip()\n",
    "        token_dict[token] = len(token_dict)\n",
    "token_dict_rev = {v: k for k, v in token_dict.items()}\n",
    "\n",
    "def token_lookup(token):\n",
    "    try:\n",
    "        x = token_dict[token]\n",
    "        return x\n",
    "    except KeyError:\n",
    "        return token_dict['[UNK]']\n",
    "    \n",
    "token_input = np.asarray([[token_lookup(token) for token in tokens] + [0] * (512 - len(tokens)) for i in range(bsz)])\n",
    "seg_input = np.asarray([[0] * len(tokens) + [0] * (512 - len(tokens)) for i in range(bsz)])\n",
    "mask_input = np.asarray([[0, 1, 1] + [0] * (512 - 3) for i in range(bsz)])"
   ]
  },
  {
   "cell_type": "code",
   "execution_count": 2,
   "metadata": {
    "ExecuteTime": {
     "end_time": "2019-01-15T05:48:08.752606Z",
     "start_time": "2019-01-15T05:48:08.743605Z"
    }
   },
   "outputs": [
    {
     "ename": "NameError",
     "evalue": "name 'token_input' is not defined",
     "output_type": "error",
     "traceback": [
      "\u001b[1;31m---------------------------------------------------------------------------\u001b[0m",
      "\u001b[1;31mNameError\u001b[0m                                 Traceback (most recent call last)",
      "\u001b[1;32m<ipython-input-2-29ae09f3abbf>\u001b[0m in \u001b[0;36m<module>\u001b[1;34m()\u001b[0m\n\u001b[1;32m----> 1\u001b[1;33m \u001b[0mprint\u001b[0m\u001b[1;33m(\u001b[0m\u001b[0mtoken_input\u001b[0m\u001b[1;33m[\u001b[0m\u001b[1;36m0\u001b[0m\u001b[1;33m]\u001b[0m\u001b[1;33m[\u001b[0m\u001b[1;33m:\u001b[0m\u001b[0mlen\u001b[0m\u001b[1;33m(\u001b[0m\u001b[0mtokens\u001b[0m\u001b[1;33m)\u001b[0m\u001b[1;33m]\u001b[0m\u001b[1;33m)\u001b[0m\u001b[1;33m\u001b[0m\u001b[0m\n\u001b[0m\u001b[0;32m      2\u001b[0m \u001b[0mpredicts\u001b[0m \u001b[1;33m=\u001b[0m \u001b[0mmodel\u001b[0m\u001b[1;33m.\u001b[0m\u001b[0mpredict\u001b[0m\u001b[1;33m(\u001b[0m\u001b[1;33m[\u001b[0m\u001b[0mtoken_input\u001b[0m\u001b[1;33m,\u001b[0m \u001b[0mseg_input\u001b[0m\u001b[1;33m,\u001b[0m \u001b[0mmask_input\u001b[0m\u001b[1;33m]\u001b[0m\u001b[1;33m)\u001b[0m\u001b[1;33m[\u001b[0m\u001b[1;36m0\u001b[0m\u001b[1;33m]\u001b[0m\u001b[1;33m\u001b[0m\u001b[0m\n\u001b[0;32m      3\u001b[0m \u001b[0mpredicts\u001b[0m \u001b[1;33m=\u001b[0m \u001b[0mnp\u001b[0m\u001b[1;33m.\u001b[0m\u001b[0margmax\u001b[0m\u001b[1;33m(\u001b[0m\u001b[0mpredicts\u001b[0m\u001b[1;33m,\u001b[0m \u001b[0maxis\u001b[0m\u001b[1;33m=\u001b[0m\u001b[1;33m-\u001b[0m\u001b[1;36m1\u001b[0m\u001b[1;33m)\u001b[0m\u001b[1;33m\u001b[0m\u001b[0m\n\u001b[0;32m      4\u001b[0m \u001b[0mprint\u001b[0m\u001b[1;33m(\u001b[0m\u001b[0mpredicts\u001b[0m\u001b[1;33m[\u001b[0m\u001b[1;36m0\u001b[0m\u001b[1;33m]\u001b[0m\u001b[1;33m[\u001b[0m\u001b[1;33m:\u001b[0m\u001b[0mlen\u001b[0m\u001b[1;33m(\u001b[0m\u001b[0mtokens\u001b[0m\u001b[1;33m)\u001b[0m\u001b[1;33m]\u001b[0m\u001b[1;33m)\u001b[0m\u001b[1;33m\u001b[0m\u001b[0m\n\u001b[0;32m      5\u001b[0m \u001b[0mprint\u001b[0m\u001b[1;33m(\u001b[0m\u001b[0mlist\u001b[0m\u001b[1;33m(\u001b[0m\u001b[0mmap\u001b[0m\u001b[1;33m(\u001b[0m\u001b[1;32mlambda\u001b[0m \u001b[0mx\u001b[0m\u001b[1;33m:\u001b[0m \u001b[0mtoken_dict_rev\u001b[0m\u001b[1;33m[\u001b[0m\u001b[0mx\u001b[0m\u001b[1;33m]\u001b[0m\u001b[1;33m,\u001b[0m \u001b[0mpredicts\u001b[0m\u001b[1;33m[\u001b[0m\u001b[1;36m0\u001b[0m\u001b[1;33m]\u001b[0m\u001b[1;33m[\u001b[0m\u001b[1;36m1\u001b[0m\u001b[1;33m:\u001b[0m\u001b[0mlen\u001b[0m\u001b[1;33m(\u001b[0m\u001b[0mtokens\u001b[0m\u001b[1;33m)\u001b[0m\u001b[1;33m]\u001b[0m\u001b[1;33m)\u001b[0m\u001b[1;33m)\u001b[0m\u001b[1;33m)\u001b[0m\u001b[1;33m\u001b[0m\u001b[0m\n",
      "\u001b[1;31mNameError\u001b[0m: name 'token_input' is not defined"
     ]
    }
   ],
   "source": [
    "print(token_input[0][:len(tokens)])\n",
    "predicts = model.predict([token_input, seg_input, mask_input])[0]\n",
    "predicts = np.argmax(predicts, axis=-1)\n",
    "print(predicts[0][:len(tokens)])\n",
    "print(list(map(lambda x: token_dict_rev[x], predicts[0][1:len(tokens)])))"
   ]
  },
  {
   "cell_type": "code",
   "execution_count": 1,
   "metadata": {
    "ExecuteTime": {
     "end_time": "2019-01-15T05:43:05.129202Z",
     "start_time": "2019-01-15T05:43:05.070220Z"
    }
   },
   "outputs": [
    {
     "ename": "NameError",
     "evalue": "name 'tokens' is not defined",
     "output_type": "error",
     "traceback": [
      "\u001b[1;31m---------------------------------------------------------------------------\u001b[0m",
      "\u001b[1;31mNameError\u001b[0m                                 Traceback (most recent call last)",
      "\u001b[1;32m<ipython-input-1-ab868e7cd68b>\u001b[0m in \u001b[0;36m<module>\u001b[1;34m()\u001b[0m\n\u001b[1;32m----> 1\u001b[1;33m \u001b[0mtokens\u001b[0m\u001b[1;33m.\u001b[0m\u001b[0mindex\u001b[0m\u001b[1;33m(\u001b[0m\u001b[1;34m'<MASK>'\u001b[0m\u001b[1;33m)\u001b[0m\u001b[1;33m\u001b[0m\u001b[0m\n\u001b[0m",
      "\u001b[1;31mNameError\u001b[0m: name 'tokens' is not defined"
     ]
    }
   ],
   "source": []
  }
 ],
 "metadata": {
  "kernelspec": {
   "display_name": "Python 3",
   "language": "python",
   "name": "python3"
  },
  "language_info": {
   "codemirror_mode": {
    "name": "ipython",
    "version": 3
   },
   "file_extension": ".py",
   "mimetype": "text/x-python",
   "name": "python",
   "nbconvert_exporter": "python",
   "pygments_lexer": "ipython3",
   "version": "3.6.4"
  },
  "varInspector": {
   "cols": {
    "lenName": 16,
    "lenType": 16,
    "lenVar": 40
   },
   "kernels_config": {
    "python": {
     "delete_cmd_postfix": "",
     "delete_cmd_prefix": "del ",
     "library": "var_list.py",
     "varRefreshCmd": "print(var_dic_list())"
    },
    "r": {
     "delete_cmd_postfix": ") ",
     "delete_cmd_prefix": "rm(",
     "library": "var_list.r",
     "varRefreshCmd": "cat(var_dic_list()) "
    }
   },
   "types_to_exclude": [
    "module",
    "function",
    "builtin_function_or_method",
    "instance",
    "_Feature"
   ],
   "window_display": true
  }
 },
 "nbformat": 4,
 "nbformat_minor": 2
}
