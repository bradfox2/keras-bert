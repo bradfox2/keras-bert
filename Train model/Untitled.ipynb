{
 "cells": [
  {
   "cell_type": "code",
   "execution_count": 15,
   "metadata": {
    "ExecuteTime": {
     "end_time": "2019-01-15T19:44:32.985144Z",
     "start_time": "2019-01-15T19:44:32.980153Z"
    }
   },
   "outputs": [],
   "source": [
    "import pandas as pd\n",
    "import numpy as np\n",
    "from keras_bert import get_model, gen_batch_inputs, get_base_dict\n",
    "import keras\n",
    "import pickle"
   ]
  },
  {
   "cell_type": "code",
   "execution_count": 16,
   "metadata": {
    "ExecuteTime": {
     "end_time": "2019-01-15T19:44:33.486019Z",
     "start_time": "2019-01-15T19:44:33.477020Z"
    }
   },
   "outputs": [],
   "source": [
    "pickle_in = open(\"token_dict.pickle\",\"rb\")\n",
    "token_dict = pickle.load(pickle_in)\n",
    "token_dict_rev = {v: k for k, v in token_dict.items()}"
   ]
  },
  {
   "cell_type": "code",
   "execution_count": 17,
   "metadata": {
    "ExecuteTime": {
     "end_time": "2019-01-15T19:44:35.603098Z",
     "start_time": "2019-01-15T19:44:34.072065Z"
    }
   },
   "outputs": [],
   "source": [
    "largest_seq = 420\n",
    "\n",
    "model = get_model(\n",
    "    token_num=len(token_dict),\n",
    "    head_num=2, # Should be a factor of embed_dim\n",
    "    transformer_num=2,\n",
    "    embed_dim=256,\n",
    "    feed_forward_dim=100,\n",
    "    seq_len=largest_seq,\n",
    "    pos_num=largest_seq,\n",
    "    dropout_rate=0.05,\n",
    ")\n",
    "\n",
    "model.load_weights(\"tinybertweights.hdf5\")"
   ]
  },
  {
   "cell_type": "code",
   "execution_count": 30,
   "metadata": {
    "ExecuteTime": {
     "end_time": "2019-01-15T19:46:59.242535Z",
     "start_time": "2019-01-15T19:46:59.230511Z"
    }
   },
   "outputs": [
    {
     "data": {
      "text/plain": [
       "['<CLS>', 'cooling', 'fan', ',', '<MASK>', 'failed', '<SEP>']"
      ]
     },
     "execution_count": 30,
     "metadata": {},
     "output_type": "execute_result"
    }
   ],
   "source": [
    "import codecs\n",
    "bsz = 1\n",
    "MASK = ['<MASK>']\n",
    "CLS = ['<CLS>']\n",
    "SEP = ['<SEP>']\n",
    "UNK = ['<UNK>']\n",
    "\n",
    "#cleared, abnormalities\n",
    "tokens = CLS + 'ON 01/04/2019 at 01:29 The Control Room received alarm window 5B02D , PPS TROUBLE / GND ,\\\n",
    "and RJ point SBYS36, Plant Protection System Channel D Ground. The alarm locked in for 45 minutes \\\n",
    "then '.lower().split() + MASK +\\\n",
    "'. The alarm response was followed and no '.lower().split() + MASK +  ' were identified'.lower().split() + SEP + ' The ground alarm light on the\\\n",
    "front of PPS Cabinet D is ON which is normal , meaning there is no ground indicated '.lower().split() + SEP + ' Wrote CR to\\\n",
    "request support from I&C '.lower().split() + SEP\n",
    "\n",
    "tokens = CLS + ' during ist testing, valve '.split() + MASK + ' failed reference '.split() + MASK + SEP\n",
    "\n",
    "tokens = CLS + ' cooling fan , '.split() + MASK + ' failed '.split() + SEP\n",
    "\n",
    "\n",
    "tokens"
   ]
  },
  {
   "cell_type": "code",
   "execution_count": 31,
   "metadata": {
    "ExecuteTime": {
     "end_time": "2019-01-15T19:46:59.539033Z",
     "start_time": "2019-01-15T19:46:59.529033Z"
    }
   },
   "outputs": [],
   "source": [
    "def token_lookup(token):\n",
    "    try:\n",
    "        x = token_dict[token]\n",
    "        return x\n",
    "    except KeyError:\n",
    "        return token_dict['<UNK>']\n",
    "    \n",
    "token_input = np.asarray([[token_lookup(token) for token in tokens] + [0] * (largest_seq - len(tokens)) for i in range(bsz)])\n",
    "seg_input = np.asarray([[0] * len(tokens) + [0] * (largest_seq - len(tokens)) for i in range(bsz)])\n",
    "mask_input = np.asarray([[0] + [0] * (largest_seq - 1) for i in range(bsz)])\n",
    "\n",
    "for i, x in enumerate(tokens):\n",
    "    if x == '<MASK>':\n",
    "        mask_input[0][i] = 1\n"
   ]
  },
  {
   "cell_type": "code",
   "execution_count": 32,
   "metadata": {
    "ExecuteTime": {
     "end_time": "2019-01-15T19:47:00.013891Z",
     "start_time": "2019-01-15T19:46:59.978893Z"
    }
   },
   "outputs": [
    {
     "name": "stdout",
     "output_type": "stream",
     "text": [
      "input: [   2 4200 6071   28    4  994    3]\n",
      "predi: [  76 4200 6071   28 4253  994   76]\n",
      "words: ['cooling', 'fan', ',', 'breaker', 'failed', 'to']\n"
     ]
    }
   ],
   "source": [
    "print('input:', token_input[0][:len(tokens)])\n",
    "predicts = model.predict([token_input, seg_input, mask_input])[0]\n",
    "predicts = np.argmax(predicts, axis=-1)\n",
    "print('predi:', predicts[0][:len(tokens)])\n",
    "print('words:', list(map(lambda x: token_dict_rev[x], predicts[0][1:len(tokens)])))"
   ]
  },
  {
   "cell_type": "code",
   "execution_count": 33,
   "metadata": {
    "ExecuteTime": {
     "end_time": "2019-01-15T19:47:02.586578Z",
     "start_time": "2019-01-15T19:47:02.582575Z"
    }
   },
   "outputs": [
    {
     "data": {
      "text/plain": [
       "['', '<UNK>', '<CLS>', '<SEP>', '<MASK>']"
      ]
     },
     "execution_count": 33,
     "metadata": {},
     "output_type": "execute_result"
    }
   ],
   "source": [
    "list(token_dict)[:5]"
   ]
  },
  {
   "cell_type": "code",
   "execution_count": null,
   "metadata": {},
   "outputs": [],
   "source": []
  }
 ],
 "metadata": {
  "kernelspec": {
   "display_name": "Python 3",
   "language": "python",
   "name": "python3"
  },
  "language_info": {
   "codemirror_mode": {
    "name": "ipython",
    "version": 3
   },
   "file_extension": ".py",
   "mimetype": "text/x-python",
   "name": "python",
   "nbconvert_exporter": "python",
   "pygments_lexer": "ipython3",
   "version": "3.6.4"
  },
  "varInspector": {
   "cols": {
    "lenName": 16,
    "lenType": 16,
    "lenVar": 40
   },
   "kernels_config": {
    "python": {
     "delete_cmd_postfix": "",
     "delete_cmd_prefix": "del ",
     "library": "var_list.py",
     "varRefreshCmd": "print(var_dic_list())"
    },
    "r": {
     "delete_cmd_postfix": ") ",
     "delete_cmd_prefix": "rm(",
     "library": "var_list.r",
     "varRefreshCmd": "cat(var_dic_list()) "
    }
   },
   "types_to_exclude": [
    "module",
    "function",
    "builtin_function_or_method",
    "instance",
    "_Feature"
   ],
   "window_display": true
  }
 },
 "nbformat": 4,
 "nbformat_minor": 2
}
